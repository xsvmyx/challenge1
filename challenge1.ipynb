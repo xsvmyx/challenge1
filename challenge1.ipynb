{
 "cells": [
  {
   "cell_type": "code",
   "execution_count": 4,
   "metadata": {},
   "outputs": [
    {
     "name": "stdout",
     "output_type": "stream",
     "text": [
      "Tax Amount:  4.29866\n",
      "Cost After Tax:  59.058659999999996\n",
      "Tip Amount:  8.858799\n",
      "Total Cost  67.917459\n"
     ]
    }
   ],
   "source": [
    "#exo1\n",
    "\n",
    "meal = 54.76\n",
    "tax = 7.85\n",
    "tip = 15\n",
    "\n",
    "tax_amount = meal * (tax/100)\n",
    "\n",
    "new = meal + tax_amount\n",
    "\n",
    "tip_amount = new * (tip / 100)\n",
    "\n",
    "total = new + tip_amount\n",
    "\n",
    "print(\"Tax Amount: \", tax_amount)\n",
    "print(\"Cost After Tax: \",new)\n",
    "print(\"Tip Amount: \",tip_amount)\n",
    "print(\"Total Cost \",total)\n",
    "\n"
   ]
  },
  {
   "cell_type": "code",
   "execution_count": 5,
   "metadata": {},
   "outputs": [
    {
     "name": "stdout",
     "output_type": "stream",
     "text": [
      "['Banana', 'Melon', 'Orange']\n"
     ]
    }
   ],
   "source": [
    "#exo2\n",
    "fruits = ['Banana', 'Melon', 'Apple']\n",
    "fruits.append('Orange')\n",
    "fruits.remove('Apple')\n",
    "fruits.sort()\n",
    "print(fruits)"
   ]
  },
  {
   "cell_type": "code",
   "execution_count": 6,
   "metadata": {},
   "outputs": [
    {
     "name": "stdout",
     "output_type": "stream",
     "text": [
      "{'name': 'Samy', 'age': 20, 'city': 'Algiers', 'country': 'Algeria'}\n"
     ]
    }
   ],
   "source": [
    "#exo3\n",
    "guy = {\n",
    "    'name':'Sam',\n",
    "    'age' : 20,\n",
    "    'city':'Algiers',\n",
    "}\n",
    "\n",
    "guy['country']='Algeria'\n",
    "guy['name']='Samy'\n",
    "print(guy)\n"
   ]
  },
  {
   "cell_type": "code",
   "execution_count": 9,
   "metadata": {},
   "outputs": [
    {
     "name": "stdout",
     "output_type": "stream",
     "text": [
      "{2, 3, 4, 5, 6, 7, 8, 10, 11}\n",
      "{2}\n"
     ]
    }
   ],
   "source": [
    "#exo4\n",
    "A={2,4,6,8,10}\n",
    "B={2,3,5,7,11}\n",
    "union=A.union(B)\n",
    "inter=A.intersection(B)\n",
    "print(union)\n",
    "print(inter)\n"
   ]
  }
 ],
 "metadata": {
  "kernelspec": {
   "display_name": "Python 3",
   "language": "python",
   "name": "python3"
  },
  "language_info": {
   "codemirror_mode": {
    "name": "ipython",
    "version": 3
   },
   "file_extension": ".py",
   "mimetype": "text/x-python",
   "name": "python",
   "nbconvert_exporter": "python",
   "pygments_lexer": "ipython3",
   "version": "3.9.13"
  }
 },
 "nbformat": 4,
 "nbformat_minor": 2
}
